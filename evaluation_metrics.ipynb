{
 "cells": [
  {
   "cell_type": "code",
   "execution_count": 1,
   "outputs": [],
   "source": [
    "!pip install bert-score"
   ],
   "metadata": {
    "collapsed": false,
    "pycharm": {
     "name": "#%%\n"
    }
   }
  },
  {
   "cell_type": "code",
   "execution_count": 1,
   "outputs": [],
   "source": [
    "import jiwer\n",
    "from bert_score import BERTScorer\n",
    "import pandas as pd\n",
    "import json\n",
    "\n",
    "transforms = jiwer.Compose(\n",
    "    [\n",
    "        jiwer.ExpandCommonEnglishContractions(),\n",
    "        jiwer.RemoveEmptyStrings(),\n",
    "        jiwer.ToLowerCase(),\n",
    "        jiwer.RemoveMultipleSpaces(),\n",
    "        jiwer.Strip(),\n",
    "        jiwer.RemovePunctuation(),\n",
    "        jiwer.ReduceToListOfListOfWords(),\n",
    "    ]\n",
    ")"
   ],
   "metadata": {
    "collapsed": false,
    "pycharm": {
     "name": "#%%\n"
    }
   }
  },
  {
   "cell_type": "code",
   "execution_count": 2,
   "outputs": [],
   "source": [
    "from storage import MongoDBStorage\n",
    "from service import MongoDBSearchService\n",
    "\n",
    "with open(\"db_host\", \"r\") as file:\n",
    "    host = file.read().rstrip()\n",
    "\n",
    "storage = MongoDBStorage(parameters={\n",
    "        \"host_url\": host\n",
    "    })\n",
    "search_service = MongoDBSearchService(storage)"
   ],
   "metadata": {
    "collapsed": false,
    "pycharm": {
     "name": "#%%\n"
    }
   }
  },
  {
   "cell_type": "code",
   "execution_count": 3,
   "outputs": [],
   "source": [
    "cursor = search_service.aggregate_filters_with_or([\n",
    "        search_service.get_query_find_by_id('661931f5d172007aa8b18204'),\n",
    "        search_service.get_query_find_by_id('661931fcd172007aa8b18205'),\n",
    "        search_service.get_query_find_by_id('661931ffd172007aa8b18206')\n",
    "    ])\n",
    "test_df_list = []\n",
    "for test_df in cursor:\n",
    "    test_df_list.append(test_df)"
   ],
   "metadata": {
    "collapsed": false,
    "pycharm": {
     "name": "#%%\n"
    }
   }
  },
  {
   "cell_type": "code",
   "execution_count": 4,
   "outputs": [],
   "source": [
    "with open(\"evaluation_and_results/references.json\") as f:\n",
    "    references = json.load(f)"
   ],
   "metadata": {
    "collapsed": false,
    "pycharm": {
     "name": "#%%\n"
    }
   }
  },
  {
   "cell_type": "code",
   "execution_count": 5,
   "outputs": [
    {
     "data": {
      "text/plain": "Downloading tokenizer_config.json:   0%|          | 0.00/49.0 [00:00<?, ?B/s]",
      "application/vnd.jupyter.widget-view+json": {
       "version_major": 2,
       "version_minor": 0,
       "model_id": "c771ed61d82e40caaeae18e4dba99a71"
      }
     },
     "metadata": {},
     "output_type": "display_data"
    },
    {
     "name": "stderr",
     "output_type": "stream",
     "text": [
      "C:\\Users\\Maximilian\\AppData\\Local\\Programs\\Python\\Python310\\lib\\site-packages\\huggingface_hub\\file_download.py:137: UserWarning: `huggingface_hub` cache-system uses symlinks by default to efficiently store duplicated files but your machine does not support them in C:\\Users\\Maximilian\\.cache\\huggingface\\hub. Caching files will still work but in a degraded version that might require more space on your disk. This warning can be disabled by setting the `HF_HUB_DISABLE_SYMLINKS_WARNING` environment variable. For more details, see https://huggingface.co/docs/huggingface_hub/how-to-cache#limitations.\n",
      "To support symlinks on Windows, you either need to activate Developer Mode or to run Python as an administrator. In order to see activate developer mode, see this article: https://docs.microsoft.com/en-us/windows/apps/get-started/enable-your-device-for-development\n",
      "  warnings.warn(message)\n"
     ]
    },
    {
     "data": {
      "text/plain": "Downloading config.json:   0%|          | 0.00/625 [00:00<?, ?B/s]",
      "application/vnd.jupyter.widget-view+json": {
       "version_major": 2,
       "version_minor": 0,
       "model_id": "6e8374f6274a426d91eb1eb7e5b947b6"
      }
     },
     "metadata": {},
     "output_type": "display_data"
    },
    {
     "data": {
      "text/plain": "Downloading vocab.txt:   0%|          | 0.00/996k [00:00<?, ?B/s]",
      "application/vnd.jupyter.widget-view+json": {
       "version_major": 2,
       "version_minor": 0,
       "model_id": "30b7f027a0e041c69c53a389757a89ea"
      }
     },
     "metadata": {},
     "output_type": "display_data"
    },
    {
     "data": {
      "text/plain": "Downloading model.safetensors:   0%|          | 0.00/714M [00:00<?, ?B/s]",
      "application/vnd.jupyter.widget-view+json": {
       "version_major": 2,
       "version_minor": 0,
       "model_id": "b2f575d9c0bb45de821047c4580bbc39"
      }
     },
     "metadata": {},
     "output_type": "display_data"
    },
    {
     "name": "stdout",
     "output_type": "stream",
     "text": [
      "Processing probabilistic_modelling.mp4, id is 661931f5d172007aa8b18204\n",
      "Word Error Rate (WER) is :0.009779951100244499\n",
      "BERTScore Precision: 0.8963, Recall: 0.8931, F1:    0.8947\n",
      "Processing system_oriented_analysis_and_informational_modelling.mp4, id is 661931fcd172007aa8b18205\n",
      "Word Error Rate (WER) is :0.019925280199252802\n",
      "BERTScore Precision: 0.9161, Recall: 0.8780, F1:    0.8967\n",
      "Processing factographical_information_analysis.mp4, id is 661931ffd172007aa8b18206\n",
      "Word Error Rate (WER) is :0.02962962962962963\n",
      "BERTScore Precision: 0.9227, Recall: 0.8956, F1:    0.9090\n"
     ]
    }
   ],
   "source": [
    "scorer = BERTScorer(model_type='bert-base-uncased')\n",
    "\n",
    "wer_list = []\n",
    "precision_list = []\n",
    "recall_list = []\n",
    "f1_score_list = []\n",
    "file_names = []\n",
    "ids = []\n",
    "\n",
    "for df in test_df_list:\n",
    "    current_id = str(df['_id'])\n",
    "    print(f\"Processing {df['additional_info']['file_name']}, id is {current_id}\")\n",
    "    ids.append(current_id)\n",
    "    file_names.append(df['additional_info']['file_name'])\n",
    "    wer = jiwer.wer(\n",
    "                    references[current_id]['text_ref'],\n",
    "                    df['extracted_text'],\n",
    "                    truth_transform=transforms,\n",
    "                    hypothesis_transform=transforms,\n",
    "                )\n",
    "    print(f\"Word Error Rate (WER) is :{wer}\")\n",
    "    wer_list.append(wer)\n",
    "\n",
    "    # BERTScore calculation\n",
    "    P, R, F1 = scorer.score([df['summary']], [references[current_id]['summary_ref']])\n",
    "    print(f\"BERTScore Precision: {P.mean():.4f}, Recall: {R.mean():.4f}, F1:    {F1.mean():.4f}\")\n",
    "    precision_list.append(P.mean())\n",
    "    recall_list.append(R.mean())\n",
    "    f1_score_list.append(F1.mean())"
   ],
   "metadata": {
    "collapsed": false,
    "pycharm": {
     "name": "#%%\n"
    }
   }
  },
  {
   "cell_type": "code",
   "execution_count": 6,
   "outputs": [
    {
     "data": {
      "text/plain": "                                           file_name  \\\n0                        probabilistic_modelling.mp4   \n1  system_oriented_analysis_and_informational_mod...   \n2            factographical_information_analysis.mp4   \n\n                         id  summary_precision  summary_recall  summary_f1  \\\n0  661931f5d172007aa8b18204           0.896348        0.893104    0.894723   \n1  661931fcd172007aa8b18205           0.916146        0.878035    0.896686   \n2  661931ffd172007aa8b18206           0.922727        0.895630    0.908976   \n\n   text_wer  text_accuracy  \n0  0.009780       0.990220  \n1  0.019925       0.980075  \n2  0.029630       0.970370  ",
      "text/html": "<div>\n<style scoped>\n    .dataframe tbody tr th:only-of-type {\n        vertical-align: middle;\n    }\n\n    .dataframe tbody tr th {\n        vertical-align: top;\n    }\n\n    .dataframe thead th {\n        text-align: right;\n    }\n</style>\n<table border=\"1\" class=\"dataframe\">\n  <thead>\n    <tr style=\"text-align: right;\">\n      <th></th>\n      <th>file_name</th>\n      <th>id</th>\n      <th>summary_precision</th>\n      <th>summary_recall</th>\n      <th>summary_f1</th>\n      <th>text_wer</th>\n      <th>text_accuracy</th>\n    </tr>\n  </thead>\n  <tbody>\n    <tr>\n      <th>0</th>\n      <td>probabilistic_modelling.mp4</td>\n      <td>661931f5d172007aa8b18204</td>\n      <td>0.896348</td>\n      <td>0.893104</td>\n      <td>0.894723</td>\n      <td>0.009780</td>\n      <td>0.990220</td>\n    </tr>\n    <tr>\n      <th>1</th>\n      <td>system_oriented_analysis_and_informational_mod...</td>\n      <td>661931fcd172007aa8b18205</td>\n      <td>0.916146</td>\n      <td>0.878035</td>\n      <td>0.896686</td>\n      <td>0.019925</td>\n      <td>0.980075</td>\n    </tr>\n    <tr>\n      <th>2</th>\n      <td>factographical_information_analysis.mp4</td>\n      <td>661931ffd172007aa8b18206</td>\n      <td>0.922727</td>\n      <td>0.895630</td>\n      <td>0.908976</td>\n      <td>0.029630</td>\n      <td>0.970370</td>\n    </tr>\n  </tbody>\n</table>\n</div>"
     },
     "execution_count": 6,
     "metadata": {},
     "output_type": "execute_result"
    }
   ],
   "source": [
    "metrics_df = pd.DataFrame()\n",
    "metrics_df['file_name'] = file_names\n",
    "metrics_df['id'] = ids\n",
    "metrics_df['summary_precision'] = precision_list\n",
    "metrics_df['summary_precision'] = metrics_df['summary_precision'].astype('float')\n",
    "metrics_df['summary_recall'] = recall_list\n",
    "metrics_df['summary_recall'] = metrics_df['summary_recall'].astype('float')\n",
    "metrics_df['summary_f1'] = f1_score_list\n",
    "metrics_df['summary_f1'] = metrics_df['summary_f1'].astype('float')\n",
    "metrics_df['text_wer'] = wer_list\n",
    "metrics_df['text_accuracy'] = 1.0 - metrics_df['text_wer']\n",
    "metrics_df"
   ],
   "metadata": {
    "collapsed": false,
    "pycharm": {
     "name": "#%%\n"
    }
   }
  },
  {
   "cell_type": "code",
   "execution_count": 7,
   "outputs": [
    {
     "name": "stdout",
     "output_type": "stream",
     "text": [
      "AVG summary precision: 0.9117401043574015\n",
      "AVG summary recall: 0.8889231085777283\n",
      "AVG summary f1: 0.9001284241676331\n",
      "AVG text WER: 0.019778286976375643\n"
     ]
    }
   ],
   "source": [
    "print(f\"AVG summary precision: {metrics_df['summary_precision'].mean()}\")\n",
    "print(f\"AVG summary recall: {metrics_df['summary_recall'].mean()}\")\n",
    "print(f\"AVG summary f1: {metrics_df['summary_f1'].mean()}\")\n",
    "print(f\"AVG text WER: {metrics_df['text_wer'].mean()}\")"
   ],
   "metadata": {
    "collapsed": false,
    "pycharm": {
     "name": "#%%\n"
    }
   }
  },
  {
   "cell_type": "code",
   "execution_count": 8,
   "outputs": [],
   "source": [
    "metrics_df.to_csv(\"evaluation_and_results/metrics111.csv\", index=False)"
   ],
   "metadata": {
    "collapsed": false,
    "pycharm": {
     "name": "#%%\n"
    }
   }
  },
  {
   "cell_type": "code",
   "execution_count": null,
   "outputs": [],
   "source": [],
   "metadata": {
    "collapsed": false,
    "pycharm": {
     "name": "#%%\n"
    }
   }
  }
 ],
 "metadata": {
  "kernelspec": {
   "display_name": "Python 3",
   "language": "python",
   "name": "python3"
  },
  "language_info": {
   "codemirror_mode": {
    "name": "ipython",
    "version": 2
   },
   "file_extension": ".py",
   "mimetype": "text/x-python",
   "name": "python",
   "nbconvert_exporter": "python",
   "pygments_lexer": "ipython2",
   "version": "2.7.6"
  }
 },
 "nbformat": 4,
 "nbformat_minor": 0
}