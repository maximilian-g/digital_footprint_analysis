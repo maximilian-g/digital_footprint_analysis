{
 "cells": [
  {
   "cell_type": "code",
   "execution_count": 1,
   "outputs": [],
   "source": [
    "from storage import MongoDBStorage\n",
    "from service import MongoDBSearchService\n",
    "from datetime import datetime\n",
    "from datetime import timedelta"
   ],
   "metadata": {
    "collapsed": false,
    "pycharm": {
     "name": "#%%\n"
    }
   }
  },
  {
   "cell_type": "code",
   "execution_count": 2,
   "outputs": [],
   "source": [
    "with open(\"db_host\", \"r\") as file:\n",
    "    host = file.read().rstrip()\n",
    "\n",
    "storage = MongoDBStorage(parameters={\n",
    "        \"host_url\": host,\n",
    "        \"collection\": \"digital_footprint_clean\"\n",
    "    })\n",
    "service = MongoDBSearchService(storage)"
   ],
   "metadata": {
    "collapsed": false,
    "pycharm": {
     "name": "#%%\n"
    }
   }
  },
  {
   "cell_type": "code",
   "execution_count": 3,
   "outputs": [],
   "source": [
    "def print_ids(df_list):\n",
    "    had_footprint_objects = False\n",
    "    for df in df_list:\n",
    "        had_footprint_objects = True\n",
    "        print(f\"ID = {df['_id']} , file name = {df['additional_info']['file_name']}\")\n",
    "\n",
    "    if not had_footprint_objects:\n",
    "        print(\"No digital footprint objects for given query\")"
   ],
   "metadata": {
    "collapsed": false,
    "pycharm": {
     "name": "#%%\n"
    }
   }
  },
  {
   "cell_type": "markdown",
   "source": [
    "Getting digital footprint objects by their creation date."
   ],
   "metadata": {
    "collapsed": false,
    "pycharm": {
     "name": "#%% md\n"
    }
   }
  },
  {
   "cell_type": "code",
   "execution_count": 4,
   "outputs": [
    {
     "name": "stdout",
     "output_type": "stream",
     "text": [
      "Finding footprint objects that were created before 2024-05-11 16:34:22.172422\n",
      "ID = 661931f5d172007aa8b18204 , file name = probabilistic_modelling.mp4\n",
      "ID = 661931fcd172007aa8b18205 , file name = system_oriented_analysis_and_informational_modelling.mp4\n",
      "ID = 661931ffd172007aa8b18206 , file name = factographical_information_analysis.mp4\n",
      "\n",
      "\n",
      "Finding footprint objects that were created after 2024-05-11 16:34:22.877594\n",
      "No digital footprint objects for given query\n",
      "\n",
      "\n",
      "Finding footprint objects that were created in period 2024-03-22 16:34:22.939595 - 2024-05-11 16:34:22.939595\n",
      "ID = 661931f5d172007aa8b18204 , file name = probabilistic_modelling.mp4\n",
      "ID = 661931fcd172007aa8b18205 , file name = system_oriented_analysis_and_informational_modelling.mp4\n",
      "ID = 661931ffd172007aa8b18206 , file name = factographical_information_analysis.mp4\n"
     ]
    }
   ],
   "source": [
    "# Getting DF by dates\n",
    "print(f\"Finding footprint objects that were created before {datetime.now()}\")\n",
    "result = service.find_by_query(service.get_query_find_before_date(datetime.now()))\n",
    "print_ids(result)\n",
    "\n",
    "print(f\"\\n\\nFinding footprint objects that were created after {datetime.now()}\")\n",
    "result = service.find_by_query(service.get_query_find_after_date(datetime.now()))\n",
    "print_ids(result)\n",
    "\n",
    "print(f\"\\n\\nFinding footprint objects that were created in period {datetime.now() - timedelta(days=50)} - {datetime.now()}\")\n",
    "result = service.find_by_query(\n",
    "    service.get_query_find_in_period(datetime.now() - timedelta(days=50), datetime.now())\n",
    ")\n",
    "print_ids(result)"
   ],
   "metadata": {
    "collapsed": false,
    "pycharm": {
     "name": "#%%\n"
    }
   }
  },
  {
   "cell_type": "markdown",
   "source": [
    "Getting digital footprint object by ID"
   ],
   "metadata": {
    "collapsed": false,
    "pycharm": {
     "name": "#%% md\n"
    }
   }
  },
  {
   "cell_type": "code",
   "execution_count": 5,
   "outputs": [
    {
     "name": "stdout",
     "output_type": "stream",
     "text": [
      "ID = 661931f5d172007aa8b18204 , file name = probabilistic_modelling.mp4\n"
     ]
    }
   ],
   "source": [
    "result = service.find_by_query(service.get_query_find_by_id(\"661931f5d172007aa8b18204\"))\n",
    "print_ids(result)"
   ],
   "metadata": {
    "collapsed": false,
    "pycharm": {
     "name": "#%%\n"
    }
   }
  },
  {
   "cell_type": "markdown",
   "source": [
    "Getting digital footprint objects by type"
   ],
   "metadata": {
    "collapsed": false,
    "pycharm": {
     "name": "#%% md\n"
    }
   }
  },
  {
   "cell_type": "code",
   "execution_count": 6,
   "outputs": [
    {
     "name": "stdout",
     "output_type": "stream",
     "text": [
      "ID = 661931f5d172007aa8b18204 , file name = probabilistic_modelling.mp4\n",
      "ID = 661931fcd172007aa8b18205 , file name = system_oriented_analysis_and_informational_modelling.mp4\n",
      "ID = 661931ffd172007aa8b18206 , file name = factographical_information_analysis.mp4\n"
     ]
    }
   ],
   "source": [
    "result = service.find_by_query(service.get_query_find_by_type(\"video\"))\n",
    "print_ids(result)"
   ],
   "metadata": {
    "collapsed": false,
    "pycharm": {
     "name": "#%%\n"
    }
   }
  },
  {
   "cell_type": "markdown",
   "source": [
    "Getting digital footprint objects by combining different queries (using \"AND\")"
   ],
   "metadata": {
    "collapsed": false,
    "pycharm": {
     "name": "#%% md\n"
    }
   }
  },
  {
   "cell_type": "code",
   "execution_count": 7,
   "outputs": [
    {
     "name": "stdout",
     "output_type": "stream",
     "text": [
      "ID = 661931f5d172007aa8b18204 , file name = probabilistic_modelling.mp4\n"
     ]
    }
   ],
   "source": [
    "result = service.aggregate_filters_with_and([\n",
    "    service.get_query_find_by_type(\"video\"),\n",
    "    service.get_query_find_by_id(\"661931f5d172007aa8b18204\")\n",
    "])\n",
    "print_ids(result)"
   ],
   "metadata": {
    "collapsed": false,
    "pycharm": {
     "name": "#%%\n"
    }
   }
  },
  {
   "cell_type": "markdown",
   "source": [
    "Getting digital footprint objects by combining different queries (using \"OR\")"
   ],
   "metadata": {
    "collapsed": false,
    "pycharm": {
     "name": "#%% md\n"
    }
   }
  },
  {
   "cell_type": "code",
   "execution_count": 8,
   "outputs": [
    {
     "name": "stdout",
     "output_type": "stream",
     "text": [
      "ID = 661931f5d172007aa8b18204 , file name = probabilistic_modelling.mp4\n",
      "ID = 661931fcd172007aa8b18205 , file name = system_oriented_analysis_and_informational_modelling.mp4\n",
      "ID = 661931ffd172007aa8b18206 , file name = factographical_information_analysis.mp4\n"
     ]
    }
   ],
   "source": [
    "result = service.aggregate_filters_with_or([\n",
    "    service.get_query_find_by_type(\"video\"),\n",
    "    service.get_query_find_by_id(\"661931f5d172007aa8b18204\")\n",
    "])\n",
    "print_ids(result)"
   ],
   "metadata": {
    "collapsed": false,
    "pycharm": {
     "name": "#%%\n"
    }
   }
  },
  {
   "cell_type": "markdown",
   "source": [
    "Getting digital footprint objects by performing summary full text search"
   ],
   "metadata": {
    "collapsed": false,
    "pycharm": {
     "name": "#%% md\n"
    }
   }
  },
  {
   "cell_type": "code",
   "execution_count": 10,
   "outputs": [
    {
     "name": "stdout",
     "output_type": "stream",
     "text": [
      "ID = 661931ffd172007aa8b18206 , file name = factographical_information_analysis.mp4\n"
     ]
    }
   ],
   "source": [
    "query = service.get_query_find_by_text_summary(text=\"Literature review is one of the most important parts of scientific work\")\n",
    "result = service.find_by_query(query)\n",
    "print_ids(result)"
   ],
   "metadata": {
    "collapsed": false,
    "pycharm": {
     "name": "#%%\n"
    }
   }
  },
  {
   "cell_type": "markdown",
   "source": [
    "Getting digital footprint objects by performing extracted text full text search"
   ],
   "metadata": {
    "collapsed": false,
    "pycharm": {
     "name": "#%% md\n"
    }
   }
  },
  {
   "cell_type": "code",
   "execution_count": 12,
   "outputs": [
    {
     "name": "stdout",
     "output_type": "stream",
     "text": [
      "ID = 661931fcd172007aa8b18205 , file name = system_oriented_analysis_and_informational_modelling.mp4\n"
     ]
    }
   ],
   "source": [
    "query = service.get_query_find_by_text_extracted_text(text=\"system-oriented analysis and information modeling\")\n",
    "result = service.find_by_query(query)\n",
    "print_ids(result)"
   ],
   "metadata": {
    "collapsed": false,
    "pycharm": {
     "name": "#%%\n"
    }
   }
  },
  {
   "cell_type": "markdown",
   "source": [
    "Getting digital footprint objects by keywords"
   ],
   "metadata": {
    "collapsed": false,
    "pycharm": {
     "name": "#%% md\n"
    }
   }
  },
  {
   "cell_type": "code",
   "execution_count": 13,
   "outputs": [
    {
     "name": "stdout",
     "output_type": "stream",
     "text": [
      "ID = 661931fcd172007aa8b18205 , file name = system_oriented_analysis_and_informational_modelling.mp4\n",
      "ID = 661931ffd172007aa8b18206 , file name = factographical_information_analysis.mp4\n"
     ]
    }
   ],
   "source": [
    "result = service.find_by_query(service.get_query_find_by_keywords([\"translational research\"]))\n",
    "print_ids(result)"
   ],
   "metadata": {
    "collapsed": false,
    "pycharm": {
     "name": "#%%\n"
    }
   }
  },
  {
   "cell_type": "markdown",
   "source": [
    "Getting digital footprint objects by topics"
   ],
   "metadata": {
    "collapsed": false,
    "pycharm": {
     "name": "#%% md\n"
    }
   }
  },
  {
   "cell_type": "code",
   "execution_count": 14,
   "outputs": [
    {
     "name": "stdout",
     "output_type": "stream",
     "text": [
      "ID = 661931fcd172007aa8b18205 , file name = system_oriented_analysis_and_informational_modelling.mp4\n"
     ]
    }
   ],
   "source": [
    "result = service.find_by_query(service.get_query_find_by_topics([\"system analysis\"]))\n",
    "print_ids(result)"
   ],
   "metadata": {
    "collapsed": false,
    "pycharm": {
     "name": "#%%\n"
    }
   }
  },
  {
   "cell_type": "markdown",
   "source": [
    "Getting digital footprint objects by named entities"
   ],
   "metadata": {
    "collapsed": false,
    "pycharm": {
     "name": "#%% md\n"
    }
   }
  },
  {
   "cell_type": "code",
   "execution_count": 15,
   "outputs": [
    {
     "name": "stdout",
     "output_type": "stream",
     "text": [
      "ID = 661931ffd172007aa8b18206 , file name = factographical_information_analysis.mp4\n"
     ]
    }
   ],
   "source": [
    "query = service.get_named_entities_filters(named_entities={\n",
    "        \"PERSON\": [\"Alexandra Klimova\"],\n",
    "        \"ORG\": [\"Microsoft\"]\n",
    "    })\n",
    "result = service.aggregate_filters_with_and(query)\n",
    "print_ids(result)"
   ],
   "metadata": {
    "collapsed": false,
    "pycharm": {
     "name": "#%%\n"
    }
   }
  },
  {
   "cell_type": "markdown",
   "source": [
    "Getting digital footprint objects by their file name in \"additional_info\""
   ],
   "metadata": {
    "collapsed": false,
    "pycharm": {
     "name": "#%% md\n"
    }
   }
  },
  {
   "cell_type": "code",
   "execution_count": 16,
   "outputs": [
    {
     "name": "stdout",
     "output_type": "stream",
     "text": [
      "ID = 661931f5d172007aa8b18204 , file name = probabilistic_modelling.mp4\n"
     ]
    }
   ],
   "source": [
    "result = service.aggregate_filters_with_or(service.get_additional_info_filters(\n",
    "    {\n",
    "        \"file_name\": \"probabilistic_modelling.mp4\"\n",
    "    }\n",
    "))\n",
    "print_ids(result)"
   ],
   "metadata": {
    "collapsed": false,
    "pycharm": {
     "name": "#%%\n"
    }
   }
  }
 ],
 "metadata": {
  "kernelspec": {
   "display_name": "Python 3",
   "language": "python",
   "name": "python3"
  },
  "language_info": {
   "codemirror_mode": {
    "name": "ipython",
    "version": 2
   },
   "file_extension": ".py",
   "mimetype": "text/x-python",
   "name": "python",
   "nbconvert_exporter": "python",
   "pygments_lexer": "ipython2",
   "version": "2.7.6"
  }
 },
 "nbformat": 4,
 "nbformat_minor": 0
}