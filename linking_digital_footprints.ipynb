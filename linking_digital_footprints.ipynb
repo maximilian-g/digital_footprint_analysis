{
 "cells": [
  {
   "cell_type": "code",
   "execution_count": 1,
   "outputs": [
    {
     "name": "stdout",
     "output_type": "stream",
     "text": [
      "Collecting Levenshtein\n",
      "  Downloading Levenshtein-0.25.1-cp310-cp310-win_amd64.whl (98 kB)\n",
      "     ---------------------------------------- 98.3/98.3 kB 2.8 MB/s eta 0:00:00\n",
      "Requirement already satisfied: rapidfuzz<4.0.0,>=3.8.0 in c:\\users\\maximilian\\appdata\\local\\programs\\python\\python310\\lib\\site-packages (from Levenshtein) (3.8.1)\n",
      "Installing collected packages: Levenshtein\n",
      "Successfully installed Levenshtein-0.25.1\n"
     ]
    },
    {
     "name": "stderr",
     "output_type": "stream",
     "text": [
      "\n",
      "[notice] A new release of pip available: 22.2.2 -> 24.0\n",
      "[notice] To update, run: python.exe -m pip install --upgrade pip\n"
     ]
    }
   ],
   "source": [
    "!pip install Levenshtein"
   ],
   "metadata": {
    "collapsed": false,
    "pycharm": {
     "name": "#%%\n"
    }
   }
  },
  {
   "cell_type": "code",
   "execution_count": 40,
   "outputs": [],
   "source": [
    "from storage import MongoDBStorage\n",
    "from service import MongoDBSearchService\n",
    "import numpy as np\n",
    "import Levenshtein"
   ],
   "metadata": {
    "collapsed": false,
    "pycharm": {
     "name": "#%%\n"
    }
   }
  },
  {
   "cell_type": "code",
   "execution_count": 41,
   "outputs": [],
   "source": [
    "with open(\"db_host\", \"r\") as file:\n",
    "    host = file.read().rstrip()\n",
    "\n",
    "storage = MongoDBStorage(parameters={\n",
    "        \"host_url\": host\n",
    "    })\n",
    "search_service = MongoDBSearchService(storage)"
   ],
   "metadata": {
    "collapsed": false,
    "pycharm": {
     "name": "#%%\n"
    }
   }
  },
  {
   "cell_type": "code",
   "execution_count": 47,
   "outputs": [],
   "source": [
    "# calculates similarity using levenshtein distance,\n",
    "# returns 2d array of x_keywords compared to y_keywords\n",
    "def calculate_similarity(x_keywords, y_keywords):\n",
    "    data = []\n",
    "    for x_label in x_keywords:\n",
    "        data_part = []\n",
    "        data.append(data_part)\n",
    "        for y_label in y_keywords:\n",
    "            data_part.append(Levenshtein.ratio(x_label, y_label))\n",
    "    return data"
   ],
   "metadata": {
    "collapsed": false,
    "pycharm": {
     "name": "#%%\n"
    }
   }
  },
  {
   "cell_type": "code",
   "execution_count": 48,
   "outputs": [],
   "source": [
    "cursor = search_service.aggregate_filters_with_or([\n",
    "        search_service.get_query_find_by_id('661931f5d172007aa8b18204'),\n",
    "        search_service.get_query_find_by_id('661931fcd172007aa8b18205'),\n",
    "        search_service.get_query_find_by_id('661931ffd172007aa8b18206'),\n",
    "        search_service.get_query_find_by_id('663f15afd9798a05aae49f74'),\n",
    "        search_service.get_query_find_by_id('663f15b0d9798a05aae49f75'),\n",
    "        search_service.get_query_find_by_id('663f15b0d9798a05aae49f76')\n",
    "    ])\n",
    "footprints_to_link = []\n",
    "for test_df in cursor:\n",
    "    footprints_to_link.append(test_df)\n"
   ],
   "metadata": {
    "collapsed": false,
    "pycharm": {
     "name": "#%%\n"
    }
   }
  },
  {
   "cell_type": "code",
   "execution_count": 51,
   "outputs": [],
   "source": [
    "def get_mean_val(footprint_l, footprint_r, label):\n",
    "    data = calculate_similarity(footprint_l[label], footprint_r[label])\n",
    "    return np.array(data).mean()\n",
    "\n",
    "def add_connection(footprint, object_id, score, linked_by_label):\n",
    "    if 'associated_objects' not in footprint:\n",
    "        footprint['associated_objects'] = []\n",
    "    has_same_object = False\n",
    "    for associated_object in footprint['associated_objects']:\n",
    "        if associated_object['id'] == object_id:\n",
    "            has_same_object = True\n",
    "            break\n",
    "\n",
    "    if not has_same_object:\n",
    "        footprint['associated_objects'].append({\n",
    "            \"id\": object_id,\n",
    "            \"linked_by_label\": linked_by_label,\n",
    "            \"score\": score\n",
    "        })\n",
    "\n",
    "connection_labels = ['keywords', 'topics']\n",
    "# connecting footprint between themselves\n",
    "for footprint in footprints_to_link:\n",
    "    for footprint_inner in footprints_to_link:\n",
    "        if footprint['_id'] == footprint_inner['_id']:\n",
    "            continue\n",
    "\n",
    "        for label in connection_labels:\n",
    "            # connecting by keywords\n",
    "            mean_val = get_mean_val(footprint, footprint_inner, label)\n",
    "            if mean_val > 0.5:\n",
    "                add_connection(footprint, str(footprint_inner['_id']), mean_val, label)\n",
    "                add_connection(footprint_inner, str(footprint['_id']), mean_val, label)\n",
    "                continue"
   ],
   "metadata": {
    "collapsed": false,
    "pycharm": {
     "name": "#%%\n"
    }
   }
  },
  {
   "cell_type": "code",
   "execution_count": 53,
   "outputs": [
    {
     "name": "stdout",
     "output_type": "stream",
     "text": [
      "Mean score for connections is 0.6432446577589314\n"
     ]
    }
   ],
   "source": [
    "scores = []\n",
    "for footprint in footprints_to_link:\n",
    "    if 'associated_objects' in footprint:\n",
    "        for object in footprint['associated_objects']:\n",
    "            scores.append(object['score'])\n",
    "\n",
    "print(f\"Mean score for connections is {np.array(scores).mean()}\")"
   ],
   "metadata": {
    "collapsed": false,
    "pycharm": {
     "name": "#%%\n"
    }
   }
  },
  {
   "cell_type": "code",
   "execution_count": 46,
   "outputs": [],
   "source": [
    "for df in footprints_to_link:\n",
    "    if '_id' in df:\n",
    "        query = search_service.get_query_find_by_id(id=df['_id'])\n",
    "        storage.update_df_raw(query, df)"
   ],
   "metadata": {
    "collapsed": false,
    "pycharm": {
     "name": "#%%\n"
    }
   }
  },
  {
   "cell_type": "code",
   "execution_count": null,
   "outputs": [],
   "source": [],
   "metadata": {
    "collapsed": false,
    "pycharm": {
     "name": "#%%\n"
    }
   }
  }
 ],
 "metadata": {
  "kernelspec": {
   "display_name": "Python 3",
   "language": "python",
   "name": "python3"
  },
  "language_info": {
   "codemirror_mode": {
    "name": "ipython",
    "version": 2
   },
   "file_extension": ".py",
   "mimetype": "text/x-python",
   "name": "python",
   "nbconvert_exporter": "python",
   "pygments_lexer": "ipython2",
   "version": "2.7.6"
  }
 },
 "nbformat": 4,
 "nbformat_minor": 0
}